{
 "cells": [
  {
   "cell_type": "code",
   "execution_count": null,
   "metadata": {},
   "outputs": [
    {
     "name": "stderr",
     "output_type": "stream",
     "text": [
      "Using TensorFlow backend.\n"
     ]
    },
    {
     "name": "stdout",
     "output_type": "stream",
     "text": [
      "Train on 60000 samples, validate on 10000 samples\n",
      "Epoch 1/3\n",
      "60000/60000 [==============================] - 86s 1ms/step - loss: 9.7283 - acc: 0.3933 - val_loss: 6.8017 - val_acc: 0.5669\n",
      "Epoch 2/3\n",
      "11808/60000 [====>.........................] - ETA: 1:02 - loss: 2.6932 - acc: 0.8037"
     ]
    }
   ],
   "source": [
    "from keras.datasets import mnist\n",
    "from keras.layers import MaxPooling2D\n",
    "import math\n",
    "#download mnist data and split into train and test sets\n",
    "(X_train, y_train), (X_test, y_test) = mnist.load_data()\n",
    "\n",
    "import matplotlib.pyplot as plt\n",
    "#plot the first image in the dataset\n",
    "plt.imshow(X_train[0])\n",
    "\n",
    "X_train[0].shape\n",
    "\n",
    "X_train = X_train.reshape(60000,28,28,1)\n",
    "X_test = X_test.reshape(10000,28,28,1)\n",
    "\n",
    "from keras.utils import to_categorical\n",
    "#one-hot encode target column\n",
    "y_train = to_categorical(y_train)\n",
    "y_test = to_categorical(y_test)\n",
    "y_train[0]\n",
    "\n",
    "from keras.models import Sequential\n",
    "from keras.layers import Dense, Conv2D, Flatten\n",
    "#create model\n",
    "model = Sequential()\n",
    "#add model layers\n",
    "model.add(Conv2D(64, (3,3), activation='relu', input_shape=(28,28,1), name='conv1'))\n",
    "model.add(MaxPooling2D(pool_size=(2,2)))\n",
    "model.add(Conv2D(32, (3,3), activation='relu', name='conv2'))\n",
    "model.add(MaxPooling2D(pool_size=(2,2)))\n",
    "model.add(Flatten())\n",
    "model.add(Dense(10, activation='softmax'))\n",
    "\n",
    "model.compile(optimizer='adam', loss='categorical_crossentropy', metrics=['accuracy'])\n",
    "\n",
    "model.fit(X_train, y_train, validation_data=(X_test, y_test), epochs=3)\n",
    "\n",
    "model.predict(X_test[:4])\n",
    "y_test[:4]"
   ]
  },
  {
   "cell_type": "code",
   "execution_count": null,
   "metadata": {},
   "outputs": [],
   "source": [
    "from keras import applications"
   ]
  },
  {
   "cell_type": "code",
   "execution_count": null,
   "metadata": {},
   "outputs": [],
   "source": [
    "model.summary()"
   ]
  },
  {
   "cell_type": "code",
   "execution_count": null,
   "metadata": {},
   "outputs": [],
   "source": [
    "input_img = model.input  # Placeholder"
   ]
  },
  {
   "cell_type": "code",
   "execution_count": null,
   "metadata": {},
   "outputs": [],
   "source": [
    "layer_dict = dict([(layer.name, layer) for layer in model.layers[0:]])  # Help us index different layers in the following steps."
   ]
  },
  {
   "cell_type": "code",
   "execution_count": null,
   "metadata": {},
   "outputs": [],
   "source": [
    "def normalize(x):\n",
    "    # utility function to normalize a tensor by its L2 norm\n",
    "    return x / (K.sqrt(K.mean(K.square(x))) + K.epsilon())"
   ]
  },
  {
   "cell_type": "code",
   "execution_count": null,
   "metadata": {},
   "outputs": [],
   "source": [
    "def deprocess_image(x):\n",
    "    # normalize tensor: center on 0., ensure std is 0.1\n",
    "    x -= x.mean()\n",
    "    x /= (x.std() + K.epsilon())\n",
    "    x *= 0.1\n",
    "\n",
    "    # clip to [0, 1]\n",
    "    x += 0.5\n",
    "    x = np.clip(x, 0, 1)\n",
    "    return x"
   ]
  },
  {
   "cell_type": "code",
   "execution_count": null,
   "metadata": {},
   "outputs": [],
   "source": [
    "# Find an input image that maximaly activate the 64 filters in conv1.\n",
    "kept_filters = []\n",
    "for filter_index in range(64):\n",
    "    # we only scan through the first 10 filters,\n",
    "    # but there are actually 64 of them\n",
    "    print('Processing filter %d' % filter_index)\n",
    "    start_time = time.time()\n",
    "    \n",
    "    layer_output = layer_dict['conv1'].output\n",
    "    loss = K.sum(layer_output[:, :, :, filter_index])  #We had a hard time to realize tha idea, \"maximize activation\". \n",
    "    # It was the artical \"How convolutional neural networks see the world\" inspired us. \n",
    "    # And the method is from the article.\n",
    "    \n",
    "    # The gradient of the loss with respect to input image.\n",
    "    grads = K.gradients(loss, input_img)[0]\n",
    "\n",
    "    # normalization trick: we normalize the gradient\n",
    "    grads = normalize(grads)\n",
    "\n",
    "    # this function returns the loss and grads, when the input picture is given\n",
    "    iterate = K.function([input_img], [loss, grads])  # This beckend function is also from the article \n",
    "    # \"How convolutional neural network see the world\"\n",
    "    \n",
    "\n",
    "    # step size for gradient ascent\n",
    "    step = 0.2\n",
    "\n",
    "    # we start from a image with some random noise\n",
    "    input_img_data = np.random.random((1, 28, 28, 1))\n",
    "    #input_img_data = (input_img_data - 0.5) * 20 + 128\n",
    "    \n",
    "    # we run gradient ascent for 20 steps\n",
    "    for i in range(1000):\n",
    "        \n",
    "        loss_value, grads_value = iterate([input_img_data])\n",
    "        input_img_data += grads_value * step\n",
    "        #print(type(loss_value))\n",
    "        #print(type(input_img_data))\n",
    "\n",
    "        #print('Current loss value:', loss_value)\n",
    "        if loss_value <= 0.:\n",
    "            # some filters get stuck to 0, we can skip them\n",
    "            break\n",
    "     # decode the resulting input image\n",
    "    \n",
    "    img = deprocess_image(input_img_data[0])\n",
    "    kept_filters.append((img, loss_value))\n",
    "    end_time = time.time()\n",
    "    print('Filter %d processed in %ds' % (filter_index, end_time - start_time))"
   ]
  },
  {
   "cell_type": "code",
   "execution_count": null,
   "metadata": {},
   "outputs": [],
   "source": [
    "#con1 filters\n",
    "np.shape(kept_filters[0][0][:,:,0])\n"
   ]
  },
  {
   "cell_type": "code",
   "execution_count": null,
   "metadata": {},
   "outputs": [],
   "source": [
    "import matplotlib.pyplot as plt\n",
    "%matplotlib inline "
   ]
  },
  {
   "cell_type": "code",
   "execution_count": null,
   "metadata": {},
   "outputs": [],
   "source": [
    "# Show the 64 images \n",
    "plt.figure(1, figsize=(30,30))\n",
    "n_columns = 8\n",
    "n_rows = 8\n",
    "for i in range(64):\n",
    "    plt.subplot(n_rows, n_columns, i+1)\n",
    "    plt.title('Filter ' + str(i+1))\n",
    "    plt.imshow(kept_filters[i][0][:,:,0].reshape(28,28),cmap='gray')"
   ]
  },
  {
   "cell_type": "code",
   "execution_count": null,
   "metadata": {},
   "outputs": [],
   "source": [
    "# Find an input image that maximaly activate the 64 filters in conv2.\n",
    "kept_filters_2 = []\n",
    "for filter_index in range(32):\n",
    "    # we only scan through the first 10 filters,\n",
    "    # but there are actually 64 of them\n",
    "    print('Processing filter %d' % filter_index)\n",
    "    start_time = time.time()\n",
    "    \n",
    "    layer_output = layer_dict['conv2'].output\n",
    "    loss = K.sum(layer_output[:, :, :, filter_index])\n",
    "    # we compute the gradient of the input picture wrt this loss\n",
    "    grads = K.gradients(loss, input_img)[0]\n",
    "\n",
    "    # normalization trick: we normalize the gradient\n",
    "    grads = normalize(grads)\n",
    "\n",
    "    # this function returns the loss and grads given the input picture\n",
    "    iterate = K.function([input_img], [loss, grads])\n",
    "    \n",
    "\n",
    "    # step size for gradient ascent\n",
    "    step = 0.2\n",
    "\n",
    "    # we start from a gray image with some random noise\n",
    "    input_img_data = np.random.random((1, 28, 28, 1))\n",
    "    input_img_data = (input_img_data - 0.5) * 20 + 128\n",
    "    \n",
    "    # we run gradient ascent for 20 steps\n",
    "    for i in range(1000):\n",
    "        \n",
    "        loss_value, grads_value = iterate([input_img_data])\n",
    "        input_img_data += grads_value * step\n",
    "        #print(type(loss_value))\n",
    "        #print(type(input_img_data))\n",
    "\n",
    "        #print('Current loss value:', loss_value)\n",
    "        if loss_value <= 0.:\n",
    "            # some filters get stuck to 0, we can skip them\n",
    "            break\n",
    "     # decode the resulting input image\n",
    "    \n",
    "    img = deprocess_image(input_img_data[0])\n",
    "    kept_filters_2.append((img, loss_value))\n",
    "    end_time = time.time()\n",
    "    print('Filter %d processed in %ds' % (filter_index, end_time - start_time))"
   ]
  },
  {
   "cell_type": "code",
   "execution_count": null,
   "metadata": {},
   "outputs": [],
   "source": [
    "# Show the 64 images \n",
    "plt.figure(1, figsize=(20,15))\n",
    "n_columns = 8\n",
    "n_rows = 4\n",
    "for i in range(32):\n",
    "    plt.subplot(n_rows, n_columns, i+1)\n",
    "    plt.title('Filter ' + str(i+1))\n",
    "    plt.imshow(kept_filters_2[i][0][:,:,0].reshape(28,28),cmap='gray')"
   ]
  },
  {
   "cell_type": "code",
   "execution_count": null,
   "metadata": {},
   "outputs": [],
   "source": [
    "import os\n",
    "os.getcwd()"
   ]
  },
  {
   "cell_type": "code",
   "execution_count": null,
   "metadata": {
    "collapsed": true
   },
   "outputs": [],
   "source": []
  }
 ],
 "metadata": {
  "kernelspec": {
   "display_name": "Python 3",
   "language": "python",
   "name": "python3"
  },
  "language_info": {
   "codemirror_mode": {
    "name": "ipython",
    "version": 3
   },
   "file_extension": ".py",
   "mimetype": "text/x-python",
   "name": "python",
   "nbconvert_exporter": "python",
   "pygments_lexer": "ipython3",
   "version": "3.6.2"
  }
 },
 "nbformat": 4,
 "nbformat_minor": 2
}
